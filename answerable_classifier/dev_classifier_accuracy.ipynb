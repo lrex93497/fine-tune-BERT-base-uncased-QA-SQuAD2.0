{
 "cells": [
  {
   "cell_type": "code",
   "execution_count": null,
   "metadata": {},
   "outputs": [],
   "source": [
    "#reference to https://github.com/ThaddeusSegura/BERT_on_SQuAD/blob/master/SE_classification.ipynb"
   ]
  },
  {
   "cell_type": "code",
   "execution_count": null,
   "metadata": {},
   "outputs": [],
   "source": [
    "import pandas as pd\n",
    "from torch.utils.data import DataLoader, RandomSampler, SequentialSampler, TensorDataset, random_split\n",
    "from transformers import BertForSequenceClassification, BertTokenizer, AdamW, BertConfig, get_linear_schedule_with_warmup\n",
    "import numpy as np\n",
    "import matplotlib.pyplot as plt\n",
    "import seaborn as sns\n",
    "from sklearn.model_selection import train_test_split\n",
    "from tqdm.auto import tqdm  # for showing progress bar\n",
    "from datasets import load_dataset\n",
    "import torch\n",
    "\n",
    "device = torch.device('cuda:0')\n",
    "#Using torch by GPU\n",
    "if torch.cuda.is_available():\n",
    "    device = torch.device('cuda:0')\n",
    "elif torch.backends.mps.is_available():\n",
    "    device = torch.device(\"mps\")\n",
    "else:\n",
    "    device = torch.device('cpu')"
   ]
  },
  {
   "cell_type": "code",
   "execution_count": null,
   "metadata": {},
   "outputs": [],
   "source": [
    "\n",
    "devset = pd.read_csv(\"dev-classifier-v2.0.csv\")\n",
    "\n",
    "\n",
    "model = BertForSequenceClassification.from_pretrained(\n",
    "    'bert_qa_classifier_pt_3/', # 12-layer BERT\n",
    "    num_labels = 2, #0:false 1:true\n",
    "    output_attentions = False, # no attention output\n",
    "    output_hidden_states = False, # no need for classifier\n",
    ")\n",
    "\n",
    "tokenizer = BertTokenizer.from_pretrained('bert-base-cased')"
   ]
  },
  {
   "cell_type": "code",
   "execution_count": null,
   "metadata": {},
   "outputs": [],
   "source": [
    "model.to(device)    #put model to device"
   ]
  },
  {
   "cell_type": "code",
   "execution_count": null,
   "metadata": {},
   "outputs": [],
   "source": [
    "input_ids_list = []\n",
    "attention_mask_list = []\n",
    "\n",
    "labels = devset.answerable.values\n",
    "\n",
    "for questions, context in zip(devset['question'], devset['context']):\n",
    "\n",
    "    tokenized = tokenizer.encode_plus(questions,context,\n",
    "                            add_special_tokens=True,    # Add `[CLS]` and `[SEP]`\n",
    "                            truncation=True,\n",
    "                            return_attention_mask=True,  # Construct attn. masks.\n",
    "                            padding='max_length',       #512\n",
    "                            max_length=512)\n",
    "    \n",
    "    input_ids_list.append(tokenized['input_ids'])\n",
    "    attention_mask_list.append(tokenized['attention_mask'])"
   ]
  },
  {
   "cell_type": "code",
   "execution_count": null,
   "metadata": {},
   "outputs": [],
   "source": [
    "input_ids = torch.tensor(input_ids_list)\n",
    "attention_masks = torch.tensor(attention_mask_list)\n",
    "labels = torch.tensor(labels)\n",
    "\n",
    "data_3_elements = torch.utils.data.TensorDataset(input_ids, attention_masks, labels)\n",
    "\n",
    "batch_size = 32\n",
    "\n",
    "dataloader = DataLoader(\n",
    "            data_3_elements,  # The training samples.\n",
    "            sampler = RandomSampler(data_3_elements), # Select batches randomly\n",
    "            batch_size = batch_size)"
   ]
  },
  {
   "cell_type": "code",
   "execution_count": null,
   "metadata": {},
   "outputs": [],
   "source": [
    "# Function to calculate the accuracy for predictions vs labels\n",
    "def flat_accuracy(preds, labels):\n",
    "    pred_flat = np.argmax(preds, axis=1).flatten()\n",
    "    labels_flat = labels.flatten()\n",
    "    return np.sum(pred_flat == labels_flat) / len(labels_flat)"
   ]
  },
  {
   "cell_type": "code",
   "execution_count": null,
   "metadata": {},
   "outputs": [],
   "source": [
    "#eval loop\n",
    "from tqdm.auto import tqdm\n",
    "model.eval()\n",
    "\n",
    "total_accuracy = 0\n",
    "total_loss = 0\n",
    "\n",
    "loop = tqdm(dataloader)\n",
    "for batch in loop:\n",
    "    batch_ids = batch[0].to(device)\n",
    "    batch_mask = batch[1].to(device)\n",
    "    batch_label = batch[2].to(device)\n",
    "    \n",
    "    \n",
    "    with torch.no_grad(): \n",
    "\n",
    "        output = model(input_ids=batch_ids, \n",
    "                                token_type_ids=None, \n",
    "                                attention_mask=batch_mask, \n",
    "                                labels=batch_label)\n",
    "\n",
    "    #get predict logits and move it with true label to cpu\n",
    "    logits = output['logits']\n",
    "\n",
    "    logits = logits.detach().cpu().numpy()\n",
    "    true_labels = batch_label.to('cpu').numpy()\n",
    "\n",
    "    total_accuracy += flat_accuracy(logits, true_labels)\n",
    "    \n",
    "\n",
    "accuracy = total_accuracy / len(dataloader)\n",
    "print(\"Accuracy on dev set: \" + str(accuracy))\n"
   ]
  },
  {
   "cell_type": "code",
   "execution_count": null,
   "metadata": {},
   "outputs": [],
   "source": [
    "print(\"Accuracy on dev set: \" + str(accuracy))"
   ]
  }
 ],
 "metadata": {
  "kernelspec": {
   "display_name": "Python 3",
   "language": "python",
   "name": "python3"
  },
  "language_info": {
   "codemirror_mode": {
    "name": "ipython",
    "version": 3
   },
   "file_extension": ".py",
   "mimetype": "text/x-python",
   "name": "python",
   "nbconvert_exporter": "python",
   "pygments_lexer": "ipython3",
   "version": "3.7.9"
  },
  "orig_nbformat": 4
 },
 "nbformat": 4,
 "nbformat_minor": 2
}
